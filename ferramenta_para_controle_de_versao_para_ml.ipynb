{
  "nbformat": 4,
  "nbformat_minor": 0,
  "metadata": {
    "colab": {
      "provenance": [],
      "authorship_tag": "ABX9TyMoXl1uLgfGVrNhKwrdNY3L",
      "include_colab_link": true
    },
    "kernelspec": {
      "name": "python3",
      "display_name": "Python 3"
    },
    "language_info": {
      "name": "python"
    }
  },
  "cells": [
    {
      "cell_type": "markdown",
      "metadata": {
        "id": "view-in-github",
        "colab_type": "text"
      },
      "source": [
        "<a href=\"https://colab.research.google.com/github/fertorresfs/Ferramenta-de-Controle-de-Versao-de-Dados-Para-Modelos-de-Machine-Learning/blob/main/ferramenta_para_controle_de_versao_para_ml.ipynb\" target=\"_parent\"><img src=\"https://colab.research.google.com/assets/colab-badge.svg\" alt=\"Open In Colab\"/></a>"
      ]
    },
    {
      "cell_type": "code",
      "execution_count": null,
      "metadata": {
        "id": "G_O1RlPVCV2x"
      },
      "outputs": [],
      "source": [
        "import hashlib\n",
        "import os\n",
        "import pandas as pd\n",
        "import sqlite3\n",
        "from datetime import datetime\n",
        "\n",
        "# Diretório para armazenar as versões dos dados\n",
        "DATA_DIR = \"data_versions\"\n",
        "os.makedirs(DATA_DIR, exist_ok=True)"
      ]
    },
    {
      "cell_type": "code",
      "source": [
        "def gerar_hash(filepath):\n",
        "    \"\"\"Gera o hash SHA-256 de um arquivo.\"\"\"\n",
        "    hasher = hashlib.sha256()\n",
        "    with open(filepath, 'rb') as f:\n",
        "        while True:\n",
        "            chunk = f.read(4096)\n",
        "            if not chunk:\n",
        "                break\n",
        "            hasher.update(chunk)\n",
        "    return hasher.hexdigest()"
      ],
      "metadata": {
        "id": "Mwd6fqlxCgdE"
      },
      "execution_count": null,
      "outputs": []
    },
    {
      "cell_type": "code",
      "source": [
        "def versionar_dados(filepath, descricao=\"\"):\n",
        "    \"\"\"Versiona um arquivo CSV.\"\"\"\n",
        "\n",
        "    # 1. Gerar hash\n",
        "    file_hash = gerar_hash(filepath)\n",
        "\n",
        "    # 2. Verificar se a versão já existe\n",
        "    conn = sqlite3.connect('data_versioning.db')\n",
        "    cursor = conn.cursor()\n",
        "    cursor.execute(\"SELECT * FROM versions WHERE hash=?\", (file_hash,))\n",
        "    existing_version = cursor.fetchone()\n",
        "    conn.close()\n",
        "\n",
        "    if existing_version:\n",
        "        print(f\"Versão já existe: {existing_version}\")\n",
        "        return file_hash\n",
        "\n",
        "    # 3. Copiar o arquivo para o diretório de versões\n",
        "    timestamp = datetime.now().strftime(\"%Y%m%d_%H%M%S\")\n",
        "    version_filename = f\"{timestamp}_{file_hash}.csv\"\n",
        "    version_filepath = os.path.join(DATA_DIR, version_filename)\n",
        "\n",
        "    df = pd.read_csv(filepath) #lendo com pandas para garantir que é um CSV válido\n",
        "    df.to_csv(version_filepath, index=False) #copia o arquivo\n",
        "\n",
        "\n",
        "    # 4. Salvar metadados no banco de dados\n",
        "    conn = sqlite3.connect('data_versioning.db')\n",
        "    cursor = conn.cursor()\n",
        "    cursor.execute(\"CREATE TABLE IF NOT EXISTS versions (hash TEXT PRIMARY KEY, filepath TEXT, timestamp TEXT, descricao TEXT)\")\n",
        "    cursor.execute(\"INSERT INTO versions VALUES (?, ?, ?, ?)\", (file_hash, version_filepath, timestamp, descricao))\n",
        "    conn.commit()\n",
        "    conn.close()\n",
        "\n",
        "    print(f\"Dados versionados com hash: {file_hash}\")\n",
        "    return file_hash"
      ],
      "metadata": {
        "id": "FpxpLIfuCkRE"
      },
      "execution_count": null,
      "outputs": []
    },
    {
      "cell_type": "code",
      "source": [
        "def carregar_versao(file_hash):\n",
        "    \"\"\"Carrega uma versão específica dos dados.\"\"\"\n",
        "    conn = sqlite3.connect('data_versioning.db')\n",
        "    cursor = conn.cursor()\n",
        "    cursor.execute(\"SELECT filepath FROM versions WHERE hash=?\", (file_hash,))\n",
        "    result = cursor.fetchone()\n",
        "    conn.close()\n",
        "\n",
        "    if result:\n",
        "        filepath = result[0]\n",
        "        try:\n",
        "            df = pd.read_csv(filepath)\n",
        "            return df\n",
        "        except FileNotFoundError:\n",
        "            print(f\"Arquivo da versão não encontrado: {filepath}\")\n",
        "            return None\n",
        "    else:\n",
        "        print(f\"Versão não encontrada para o hash: {file_hash}\")\n",
        "        return None"
      ],
      "metadata": {
        "id": "p8sydN-tCnjj"
      },
      "execution_count": null,
      "outputs": []
    },
    {
      "cell_type": "code",
      "source": [
        "# Exemplo de uso:\n",
        "filepath = \"meu_arquivo.csv\"\n",
        "descricao = \"Versão inicial dos dados\"\n",
        "file_hash = versionar_dados(filepath, descricao)"
      ],
      "metadata": {
        "id": "AawrHgyMCqsZ"
      },
      "execution_count": null,
      "outputs": []
    },
    {
      "cell_type": "code",
      "source": [
        "#Para carregar uma versão:\n",
        "#df_versao = carregar_versao(file_hash)\n",
        "\n",
        "#if df_versao is not None:\n",
        "#  print(df_versao.head())"
      ],
      "metadata": {
        "id": "CB6E2DMACs5l"
      },
      "execution_count": null,
      "outputs": []
    }
  ]
}